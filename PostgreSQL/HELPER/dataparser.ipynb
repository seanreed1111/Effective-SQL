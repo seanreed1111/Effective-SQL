{
 "cells": [
  {
   "cell_type": "code",
   "execution_count": 1,
   "metadata": {},
   "outputs": [],
   "source": [
    "import os, re\n"
   ]
  },
  {
   "cell_type": "code",
   "execution_count": 8,
   "metadata": {},
   "outputs": [],
   "source": [
    "def parse_lines(lines):\n",
    "    match = re.search(r\"(INSERT INTO.*\\s+VALUES\\s)\",lines)\n",
    "    header = match.groups()[0]\n",
    "    \n",
    "    iteritem = re.finditer(    \n",
    "        r\"INSERT INTO.* VALUES (\\(.*\\));\",\n",
    "        lines)\n",
    "    data = [item.groups()[0] for item in iteritem]\n",
    "    data = \",\".join(data)\n",
    "    \n",
    "    return f\"\\nBEGIN;\\nset schema 'public';\\n{header}\\n {data};\\nCOMMIT;\""
   ]
  },
  {
   "cell_type": "code",
   "execution_count": 9,
   "metadata": {},
   "outputs": [
    {
     "data": {
      "text/plain": [
       "('/Users/seanreed1/ADVENTUREWORKS/sql-adventureworks-ttp/DATA/NEW-SPLITTED-DATA/FINAL-3/SOURCE',\n",
       " ['.ipynb_checkpoints'],\n",
       " ['productinventory.sql',\n",
       "  'customer.sql',\n",
       "  'productmodelproductdescriptionculture.sql',\n",
       "  'productcosthistory.sql',\n",
       "  'salestaxrate.sql',\n",
       "  'salesorderheader.sql',\n",
       "  'productmodelillustration.sql',\n",
       "  'workorderrouting.sql',\n",
       "  'transactionhistory.sql',\n",
       "  'currency.sql',\n",
       "  'location.sql',\n",
       "  'productproductphoto.sql',\n",
       "  'shipmethod.sql',\n",
       "  'workorder.sql',\n",
       "  'salesorderdetail.sql',\n",
       "  'salesorderheadersalesreason.sql',\n",
       "  'productlistpricehistory.sql',\n",
       "  'productmodel.sql',\n",
       "  'productcategory.sql',\n",
       "  'culture.sql',\n",
       "  'productdocument.sql',\n",
       "  'transactionhistoryarchive.sql',\n",
       "  'salesterritoryhistory.sql',\n",
       "  'document.sql',\n",
       "  'purchaseorderdetail.sql',\n",
       "  'specialoffer.sql',\n",
       "  'scrapreason.sql',\n",
       "  'productvendor.sql',\n",
       "  'productreview.sql',\n",
       "  'salesreason.sql',\n",
       "  'specialofferproduct.sql',\n",
       "  'store.sql',\n",
       "  'product.sql',\n",
       "  'productphoto.sql',\n",
       "  'productdescription.sql',\n",
       "  'vendor.sql',\n",
       "  'purchaseorderheader.sql',\n",
       "  'productsubcategory.sql',\n",
       "  'salespersonquotahistory.sql',\n",
       "  'personcreditcard.sql',\n",
       "  'creditcard.sql',\n",
       "  'salesperson.sql',\n",
       "  'salesterritory.sql',\n",
       "  'illustration.sql',\n",
       "  'currencyrate.sql',\n",
       "  'countryregioncurrency.sql',\n",
       "  'shoppingcartitem.sql',\n",
       "  'unitmeasure.sql'])"
      ]
     },
     "execution_count": 9,
     "metadata": {},
     "output_type": "execute_result"
    }
   ],
   "source": [
    "sourcepath = \"/Users/seanreed1/ADVENTUREWORKS/sql-adventureworks-ttp/DATA/NEW-SPLITTED-DATA/FINAL-3/SOURCE\"\n",
    "targetpath = \"/Users/seanreed1/ADVENTUREWORKS/sql-adventureworks-ttp/DATA/NEW-SPLITTED-DATA/FINAL-3/TARGET\"\n",
    "next(os.walk(sourcepath))\n"
   ]
  },
  {
   "cell_type": "markdown",
   "metadata": {},
   "source": [
    "#### DEBUGGING WINDOW\n",
    "\n",
    "file = 'currencyrate.sql'\n",
    "sourcefile = os.path.join(sourcepath,file)\n",
    "with open(sourcefile, 'r') as f:\n",
    "    lines = f.read()\n",
    "\n",
    "targetfile = os.path.join(targetpath,file)        \n",
    "with open(targetfile, 'wt') as f:\n",
    "    f.write(parse_lines(lines))"
   ]
  },
  {
   "cell_type": "code",
   "execution_count": 12,
   "metadata": {},
   "outputs": [],
   "source": [
    "sourcepath = \"/Users/seanreed1/ADVENTUREWORKS/sql-adventureworks-ttp/DATA/NEW-SPLITTED-DATA/FINAL-3/SOURCE\"\n",
    "targetpath = \"/Users/seanreed1/ADVENTUREWORKS/sql-adventureworks-ttp/DATA/NEW-SPLITTED-DATA/FINAL-3/TARGET\"\n",
    "\n",
    "_,_,filenames = next(os.walk(sourcepath))\n",
    "\n",
    "for file in filenames:\n",
    "    sourcefile = os.path.join(sourcepath,file)\n",
    "    with open(sourcefile, 'r') as f:\n",
    "        lines = f.read()\n",
    "    targetfile = os.path.join(targetpath,file)        \n",
    "    with open(targetfile, 'wt') as f:\n",
    "        f.write(parse_lines(lines))"
   ]
  },
  {
   "cell_type": "code",
   "execution_count": null,
   "metadata": {},
   "outputs": [],
   "source": []
  }
 ],
 "metadata": {
  "kernelspec": {
   "display_name": "Python 3",
   "language": "python",
   "name": "python3"
  },
  "language_info": {
   "codemirror_mode": {
    "name": "ipython",
    "version": 3
   },
   "file_extension": ".py",
   "mimetype": "text/x-python",
   "name": "python",
   "nbconvert_exporter": "python",
   "pygments_lexer": "ipython3",
   "version": "3.8.6"
  }
 },
 "nbformat": 4,
 "nbformat_minor": 4
}
