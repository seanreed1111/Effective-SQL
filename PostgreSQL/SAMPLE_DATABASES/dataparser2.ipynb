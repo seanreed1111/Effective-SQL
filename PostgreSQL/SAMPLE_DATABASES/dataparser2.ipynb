{
 "cells": [
  {
   "cell_type": "code",
   "execution_count": 1,
   "metadata": {},
   "outputs": [],
   "source": [
    "import os, re\n"
   ]
  },
  {
   "cell_type": "code",
   "execution_count": 3,
   "metadata": {},
   "outputs": [],
   "source": [
    "def parse_lines(lines):\n",
    "    match = re.search(r\"(INSERT INTO.*\\s+VALUES\\s)\",lines)\n",
    "    header = match.groups()[0]\n",
    "    \n",
    "    iteritem = re.finditer(    \n",
    "        r\"INSERT INTO.* VALUES (\\(.*\\));\",\n",
    "        lines)\n",
    "    data = [item.groups()[0] for item in iteritem]\n",
    "    data = \",\".join(data)\n",
    "    \n",
    "    return f\"\\nBEGIN;\\nset schema 'public';\\n{header}\\n {data};\\nCOMMIT;\""
   ]
  },
  {
   "cell_type": "code",
   "execution_count": 4,
   "metadata": {},
   "outputs": [],
   "source": [
    "sourcepath = \"./BEER/\"\n",
    "targetpath = \"./BEER/TARGET\"\n",
    "\n"
   ]
  },
  {
   "cell_type": "code",
   "execution_count": 6,
   "metadata": {},
   "outputs": [],
   "source": [
    "sourcefile = \"./BEER/BeerStylesData.sql\"\n",
    "targetfile = \"./BEER/TARGET/BeerStylesData.sql\"\n",
    "\n",
    "\n",
    "with open(sourcefile, 'r') as f:\n",
    "    lines = f.read()\n",
    "      \n",
    "with open(targetfile, 'wt') as f:\n",
    "    f.write(parse_lines(lines))"
   ]
  },
  {
   "cell_type": "code",
   "execution_count": null,
   "metadata": {},
   "outputs": [],
   "source": []
  }
 ],
 "metadata": {
  "kernelspec": {
   "display_name": "Python 3",
   "language": "python",
   "name": "python3"
  },
  "language_info": {
   "codemirror_mode": {
    "name": "ipython",
    "version": 3
   },
   "file_extension": ".py",
   "mimetype": "text/x-python",
   "name": "python",
   "nbconvert_exporter": "python",
   "pygments_lexer": "ipython3",
   "version": "3.8.3-final"
  }
 },
 "nbformat": 4,
 "nbformat_minor": 4
}